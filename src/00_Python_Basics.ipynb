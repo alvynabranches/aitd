{
 "cells": [
  {
   "cell_type": "markdown",
   "id": "3e070a54",
   "metadata": {},
   "source": [
    "# Basics"
   ]
  },
  {
   "cell_type": "markdown",
   "id": "b443c6a4",
   "metadata": {},
   "source": [
    "## Print Statements\n",
    "\n",
    "- end\n",
    "- sep"
   ]
  },
  {
   "cell_type": "code",
   "execution_count": null,
   "id": "37e2a961",
   "metadata": {},
   "outputs": [],
   "source": []
  },
  {
   "cell_type": "markdown",
   "id": "31986379",
   "metadata": {},
   "source": [
    "## Variables\n",
    "\n",
    "- Naming Variable\n",
    "- Restrictions in naming variables\n",
    "- Variable datatypes\n",
    "- Type Casting"
   ]
  },
  {
   "cell_type": "code",
   "execution_count": null,
   "id": "377b95ee",
   "metadata": {},
   "outputs": [],
   "source": []
  },
  {
   "cell_type": "markdown",
   "id": "5fb870df",
   "metadata": {},
   "source": [
    "## Mathematical Operators\n",
    "\n",
    "- Addition: +\n",
    "- Subraction: -\n",
    "- Multiplication: *\n",
    "- Division: /\n",
    "- Reminder: %\n",
    "- Power: **\n",
    "- Number Comma: _"
   ]
  },
  {
   "cell_type": "code",
   "execution_count": null,
   "id": "398f3ecb",
   "metadata": {},
   "outputs": [],
   "source": []
  },
  {
   "cell_type": "markdown",
   "id": "d2d1a5a1",
   "metadata": {},
   "source": [
    "## Strings\n",
    "\n",
    "- ' ', \"\", ''' ''', \"\"\" \"\"\"\n",
    "- Concat String: +\n",
    "- Replicating String: *\n",
    "- .format()\n",
    "- .split()\n",
    "- R string\n",
    "- F string\n",
    "- F string =\n",
    "- \\n, \\t, \\r\n",
    "- %d, %f, %s\n",
    "- Indexing String\n",
    "- Slicing String"
   ]
  },
  {
   "cell_type": "code",
   "execution_count": null,
   "id": "3edfa9e3",
   "metadata": {},
   "outputs": [],
   "source": []
  },
  {
   "cell_type": "markdown",
   "id": "29c56831",
   "metadata": {},
   "source": [
    "## Conditional Operators\n",
    "- if\n",
    "- elif\n",
    "- else"
   ]
  },
  {
   "cell_type": "code",
   "execution_count": null,
   "id": "45e87fe3",
   "metadata": {},
   "outputs": [],
   "source": []
  },
  {
   "cell_type": "markdown",
   "id": "1a0a467e",
   "metadata": {},
   "source": [
    "## Boolean\n",
    "\n",
    "- True, False\n",
    "- and, or"
   ]
  },
  {
   "cell_type": "code",
   "execution_count": null,
   "id": "499d64d7",
   "metadata": {},
   "outputs": [],
   "source": []
  },
  {
   "cell_type": "markdown",
   "id": "2d5985e8",
   "metadata": {},
   "source": [
    "# Data Structure in Python"
   ]
  },
  {
   "cell_type": "markdown",
   "id": "42fc8f3b",
   "metadata": {},
   "source": [
    "## Tuples\n",
    "\n",
    "- Defining Tuples\n",
    "- Immutability of Tuples\n",
    "- Nested Tuples"
   ]
  },
  {
   "cell_type": "code",
   "execution_count": null,
   "id": "d870c904",
   "metadata": {},
   "outputs": [],
   "source": []
  },
  {
   "cell_type": "markdown",
   "id": "6a25f390",
   "metadata": {},
   "source": [
    "## List\n",
    "\n",
    "- Defining List\n",
    "- Nested List\n",
    "- Tuples inside List\n",
    "- Indexing List\n",
    "- Slicing List\n",
    "- Replication\n",
    "- Reverse\n",
    "- len()"
   ]
  },
  {
   "cell_type": "code",
   "execution_count": null,
   "id": "148fd6c1",
   "metadata": {},
   "outputs": [],
   "source": []
  },
  {
   "cell_type": "markdown",
   "id": "ae597bd3",
   "metadata": {},
   "source": [
    "## Set\n",
    "\n",
    "- Unordered collection of unique elements"
   ]
  },
  {
   "cell_type": "code",
   "execution_count": null,
   "id": "7650a328",
   "metadata": {},
   "outputs": [],
   "source": []
  },
  {
   "cell_type": "markdown",
   "id": "32484837",
   "metadata": {},
   "source": [
    "## Dictonaries\n",
    "\n",
    "- Key, Value\n",
    "- Indexing\n",
    "- Iterating\n",
    "- Nested Dictonaries\n",
    "- Tuples inside Dictonary\n",
    "- List inside Dictonary\n",
    "- Set inside Dictonary\n",
    "- Restrictions on key naming"
   ]
  },
  {
   "cell_type": "code",
   "execution_count": null,
   "id": "cec94917",
   "metadata": {},
   "outputs": [],
   "source": []
  },
  {
   "cell_type": "markdown",
   "id": "1018babb",
   "metadata": {},
   "source": [
    "## Reading from console\n",
    "\n",
    "- Read strings\n",
    "- Read intergers\n",
    "- Read float\n",
    "- Read lists"
   ]
  },
  {
   "cell_type": "code",
   "execution_count": null,
   "id": "916d795d",
   "metadata": {},
   "outputs": [],
   "source": []
  },
  {
   "cell_type": "markdown",
   "id": "1ce321e5",
   "metadata": {},
   "source": [
    "# Indentation\n",
    "\n",
    "- Importance\n",
    "- Need of Indentation"
   ]
  },
  {
   "cell_type": "markdown",
   "id": "f2772242",
   "metadata": {},
   "source": [
    "# Loops"
   ]
  },
  {
   "cell_type": "markdown",
   "id": "6ee7a2cc",
   "metadata": {},
   "source": [
    "## For Loop\n",
    "\n",
    "- Syntax\n",
    "- Conditionals inside for loops\n",
    "- Multiple for loops\n",
    "- range()\n",
    "- iterating python datatypes\n",
    "- enumerate()\n",
    "- zip()"
   ]
  },
  {
   "cell_type": "code",
   "execution_count": null,
   "id": "3bc76e95",
   "metadata": {},
   "outputs": [],
   "source": []
  },
  {
   "cell_type": "markdown",
   "id": "8f620233",
   "metadata": {},
   "source": [
    "## While Loop"
   ]
  },
  {
   "cell_type": "code",
   "execution_count": null,
   "id": "6cc313b0",
   "metadata": {},
   "outputs": [],
   "source": []
  },
  {
   "cell_type": "markdown",
   "id": "55161867",
   "metadata": {},
   "source": [
    "## Exception Handling\n",
    "\n",
    "- try\n",
    "- except\n",
    "- finally"
   ]
  },
  {
   "cell_type": "code",
   "execution_count": null,
   "id": "8b6f32cd",
   "metadata": {},
   "outputs": [],
   "source": []
  },
  {
   "cell_type": "markdown",
   "id": "6e7c8207",
   "metadata": {},
   "source": [
    "## Classes and Objects\n",
    "\n",
    "- Defining classes\n",
    "- `__init__()`\n",
    "- `__str__()`\n",
    "- `__call__()`"
   ]
  },
  {
   "cell_type": "code",
   "execution_count": null,
   "id": "3f8ad4fc",
   "metadata": {},
   "outputs": [],
   "source": []
  },
  {
   "cell_type": "code",
   "execution_count": null,
   "id": "63303309",
   "metadata": {},
   "outputs": [],
   "source": []
  }
 ],
 "metadata": {
  "kernelspec": {
   "display_name": "Python 3 (ipykernel)",
   "language": "python",
   "name": "python3"
  },
  "language_info": {
   "codemirror_mode": {
    "name": "ipython",
    "version": 3
   },
   "file_extension": ".py",
   "mimetype": "text/x-python",
   "name": "python",
   "nbconvert_exporter": "python",
   "pygments_lexer": "ipython3",
   "version": "3.9.10"
  }
 },
 "nbformat": 4,
 "nbformat_minor": 5
}
