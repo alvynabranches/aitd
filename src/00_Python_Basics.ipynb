{
 "cells": [
  {
   "cell_type": "markdown",
   "id": "3e070a54",
   "metadata": {},
   "source": [
    "# Basics"
   ]
  },
  {
   "cell_type": "markdown",
   "id": "b443c6a4",
   "metadata": {},
   "source": [
    "## Print Statements\n",
    "\n",
    "- end\n",
    "- sep"
   ]
  },
  {
   "cell_type": "code",
   "execution_count": 2,
   "id": "37e2a961",
   "metadata": {},
   "outputs": [
    {
     "name": "stdout",
     "output_type": "stream",
     "text": [
      "Hello World\n",
      "1\n",
      "1.5\n"
     ]
    }
   ],
   "source": [
    "print(\"Hello World\")\n",
    "print(1)\n",
    "print(1.5)"
   ]
  },
  {
   "cell_type": "code",
   "execution_count": 3,
   "id": "eaa7fa46",
   "metadata": {},
   "outputs": [],
   "source": [
    "# Demo Code"
   ]
  },
  {
   "cell_type": "markdown",
   "id": "31986379",
   "metadata": {},
   "source": [
    "## Variables\n",
    "\n",
    "- Naming Variable\n",
    "- Restrictions in naming variables\n",
    "- Variable datatypes\n",
    "- Type Casting"
   ]
  },
  {
   "cell_type": "code",
   "execution_count": 4,
   "id": "377b95ee",
   "metadata": {},
   "outputs": [],
   "source": [
    "dummy = 5"
   ]
  },
  {
   "cell_type": "markdown",
   "id": "5fb870df",
   "metadata": {},
   "source": [
    "## Mathematical Operators\n",
    "\n",
    "- Addition: +\n",
    "- Subraction: -\n",
    "- Multiplication: *\n",
    "- Division: /\n",
    "- Reminder: %\n",
    "- Power: **\n",
    "- Number Comma: _"
   ]
  },
  {
   "cell_type": "code",
   "execution_count": 6,
   "id": "398f3ecb",
   "metadata": {},
   "outputs": [
    {
     "data": {
      "text/plain": [
       "32"
      ]
     },
     "execution_count": 6,
     "metadata": {},
     "output_type": "execute_result"
    }
   ],
   "source": [
    "2**5"
   ]
  },
  {
   "cell_type": "code",
   "execution_count": 7,
   "id": "d58d0503",
   "metadata": {},
   "outputs": [
    {
     "data": {
      "text/plain": [
       "2.5"
      ]
     },
     "execution_count": 7,
     "metadata": {},
     "output_type": "execute_result"
    }
   ],
   "source": [
    "5/2"
   ]
  },
  {
   "cell_type": "code",
   "execution_count": 8,
   "id": "75e4e5b9",
   "metadata": {},
   "outputs": [
    {
     "data": {
      "text/plain": [
       "2"
      ]
     },
     "execution_count": 8,
     "metadata": {},
     "output_type": "execute_result"
    }
   ],
   "source": [
    "5//2"
   ]
  },
  {
   "cell_type": "markdown",
   "id": "d2d1a5a1",
   "metadata": {},
   "source": [
    "## Strings\n",
    "\n",
    "- ' ', \"\", ''' ''', \"\"\" \"\"\"\n",
    "- Concat String: +\n",
    "- Replicating String: *\n",
    "- .format()\n",
    "- .split()\n",
    "- R string\n",
    "- F string\n",
    "- F string =\n",
    "- \\n, \\t, \\r\n",
    "- %d, %f, %s\n",
    "- Indexing String\n",
    "- Slicing String"
   ]
  },
  {
   "cell_type": "code",
   "execution_count": 28,
   "id": "3edfa9e3",
   "metadata": {},
   "outputs": [
    {
     "data": {
      "text/plain": [
       "'shop'"
      ]
     },
     "execution_count": 28,
     "metadata": {},
     "output_type": "execute_result"
    }
   ],
   "source": [
    "string = \"hello\"\n",
    "# print(string, end=\"\\t\")\n",
    "string = 'hello'\n",
    "# print(string)\n",
    "string = \"\"\"\n",
    "hi\n",
    "\n",
    "welcome to the workshop\n",
    "\"\"\"\n",
    "# print(string)\n",
    "\n",
    "a = 5\n",
    "b = 2\n",
    "\n",
    "# print(\"a is {1} and b is {0}\".format(a, b))\n",
    "# print(f\"{a=} and {b=}\")\n",
    "\n",
    "\n",
    "# from time import sleep\n",
    "\n",
    "# for i in range(10):\n",
    "#     print(i, end=\"\\r\")\n",
    "#     sleep(2)\n",
    "    \n",
    "string = \"Workshop\"\n",
    "string[4:]"
   ]
  },
  {
   "cell_type": "markdown",
   "id": "29c56831",
   "metadata": {},
   "source": [
    "## Conditional Operators\n",
    "- if\n",
    "- elif\n",
    "- else"
   ]
  },
  {
   "cell_type": "code",
   "execution_count": 29,
   "id": "45e87fe3",
   "metadata": {},
   "outputs": [
    {
     "name": "stdout",
     "output_type": "stream",
     "text": [
      "a > b\n"
     ]
    }
   ],
   "source": [
    "a = 5\n",
    "b = 2\n",
    "\n",
    "if a < b:\n",
    "    print(\"a < b\")\n",
    "elif a > b:\n",
    "    print(\"a > b\")\n",
    "else:\n",
    "    print(\"a == b\")"
   ]
  },
  {
   "cell_type": "markdown",
   "id": "1a0a467e",
   "metadata": {},
   "source": [
    "## Boolean\n",
    "\n",
    "- True, False\n",
    "- and, or"
   ]
  },
  {
   "cell_type": "code",
   "execution_count": 36,
   "id": "499d64d7",
   "metadata": {},
   "outputs": [],
   "source": [
    "import os\n",
    "\n",
    "if not os.path.isdir(\"/Users/alvynabranches/aitd_workshop/src/img\"):\n",
    "    os.mkdir(\"/Users/alvynabranches/aitd_workshop/src/img\")"
   ]
  },
  {
   "cell_type": "markdown",
   "id": "2d5985e8",
   "metadata": {},
   "source": [
    "# Data Structure in Python"
   ]
  },
  {
   "cell_type": "markdown",
   "id": "42fc8f3b",
   "metadata": {},
   "source": [
    "## Tuples\n",
    "\n",
    "- Defining Tuples\n",
    "- Immutability of Tuples\n",
    "- Nested Tuples"
   ]
  },
  {
   "cell_type": "code",
   "execution_count": 44,
   "id": "d870c904",
   "metadata": {},
   "outputs": [
    {
     "name": "stdout",
     "output_type": "stream",
     "text": [
      "<class 'tuple'>\n",
      "<class 'tuple'>\n",
      "<class 'tuple'>\n",
      "((1, 4, 28), (1,))\n"
     ]
    }
   ],
   "source": [
    "a = tuple()\n",
    "b = (1, 4, 28)\n",
    "c = (1,)\n",
    "nest = ((1, 4, 28), (1,))\n",
    "print(type(a))\n",
    "print(type(b))\n",
    "print(type(c))\n",
    "# b[0] = 4\n",
    "print(nest)"
   ]
  },
  {
   "cell_type": "markdown",
   "id": "6a25f390",
   "metadata": {},
   "source": [
    "## List\n",
    "\n",
    "- Defining List\n",
    "- Nested List\n",
    "- Tuples inside List\n",
    "- Indexing List\n",
    "- Slicing List\n",
    "- Replication\n",
    "- Reverse\n",
    "- len()"
   ]
  },
  {
   "cell_type": "code",
   "execution_count": 68,
   "id": "148fd6c1",
   "metadata": {},
   "outputs": [
    {
     "name": "stdout",
     "output_type": "stream",
     "text": [
      "[1, 4385, 347]\n",
      "[[5, 4385, 347], [1, 4385, 347]]\n",
      "<class 'list'>\n",
      "[(5, 4385, 347), (1, 4385, 347)]\n",
      "<class 'list'>\n",
      "[1, 3, 4385, 347, 60]\n"
     ]
    },
    {
     "data": {
      "text/plain": [
       "[1, 3, 4385, 347, 60, 1, 3, 4385, 347, 60]"
      ]
     },
     "execution_count": 68,
     "metadata": {},
     "output_type": "execute_result"
    }
   ],
   "source": [
    "l = [5, 4385, 347]\n",
    "nest_list = [[5, 4385, 347], [1, 4385, 347]]\n",
    "l[0] = 1\n",
    "print(l)\n",
    "print(nest_list)\n",
    "print(type(nest_list))\n",
    "nest_list_t = [(5, 4385, 347), (1, 4385, 347)]\n",
    "print(nest_list_t)\n",
    "print(type(nest_list_t))\n",
    "nest_list_t[:][0:2]\n",
    "l.append(60)\n",
    "l.insert(1, 3)\n",
    "print(l)\n",
    "l * 2"
   ]
  },
  {
   "cell_type": "code",
   "execution_count": 69,
   "id": "6443f8c1",
   "metadata": {},
   "outputs": [
    {
     "name": "stdout",
     "output_type": "stream",
     "text": [
      "*\n",
      "**\n",
      "***\n",
      "****\n",
      "*****\n"
     ]
    }
   ],
   "source": [
    "for i in range(1, 6):\n",
    "    print(\"*\"*i)"
   ]
  },
  {
   "cell_type": "code",
   "execution_count": 67,
   "id": "f347b30e",
   "metadata": {},
   "outputs": [
    {
     "name": "stdout",
     "output_type": "stream",
     "text": [
      "[7, 9, 3]\n",
      "3\n",
      "[7, 9, 3, 7, 9, 3, 4]\n"
     ]
    }
   ],
   "source": [
    "first = [7, 9, 3]\n",
    "second = first.copy()\n",
    "second.append(4)\n",
    "print(first)\n",
    "print(len(first))\n",
    "first.extend(second)\n",
    "print(first)"
   ]
  },
  {
   "cell_type": "markdown",
   "id": "ae597bd3",
   "metadata": {},
   "source": [
    "## Set\n",
    "\n",
    "- Unordered collection of unique elements"
   ]
  },
  {
   "cell_type": "code",
   "execution_count": 57,
   "id": "7650a328",
   "metadata": {},
   "outputs": [
    {
     "ename": "TypeError",
     "evalue": "unhashable type: 'list'",
     "output_type": "error",
     "traceback": [
      "\u001b[0;31m---------------------------------------------------------------------------\u001b[0m",
      "\u001b[0;31mTypeError\u001b[0m                                 Traceback (most recent call last)",
      "Input \u001b[0;32mIn [57]\u001b[0m, in \u001b[0;36m<cell line: 1>\u001b[0;34m()\u001b[0m\n\u001b[0;32m----> 1\u001b[0m this_set \u001b[38;5;241m=\u001b[39m {\u001b[38;5;241m1\u001b[39m, \u001b[38;5;241m3\u001b[39m, \u001b[38;5;241m5\u001b[39m,\u001b[38;5;241m5\u001b[39m, \u001b[38;5;241m7\u001b[39m, \u001b[38;5;241m9\u001b[39m,\u001b[38;5;241m9\u001b[39m,\u001b[38;5;241m1\u001b[39m, \u001b[38;5;241m7\u001b[39m, \u001b[38;5;241m1.9\u001b[39m, \u001b[38;5;124m\"\u001b[39m\u001b[38;5;124ms\u001b[39m\u001b[38;5;124m\"\u001b[39m, []}\n\u001b[1;32m      2\u001b[0m this_set\n",
      "\u001b[0;31mTypeError\u001b[0m: unhashable type: 'list'"
     ]
    }
   ],
   "source": [
    "this_set = {1, 3, 5,5, 7, 9,9,1, 7, 1.9, \"s\"}\n",
    "this_set"
   ]
  },
  {
   "cell_type": "code",
   "execution_count": 60,
   "id": "aca6ab6a",
   "metadata": {},
   "outputs": [
    {
     "data": {
      "text/plain": [
       "{1, 1.9, 10, 3, 5, 7, 9, 's'}"
      ]
     },
     "execution_count": 60,
     "metadata": {},
     "output_type": "execute_result"
    }
   ],
   "source": [
    "this_set.add(10)\n",
    "this_set"
   ]
  },
  {
   "cell_type": "code",
   "execution_count": null,
   "id": "48bc4c96",
   "metadata": {},
   "outputs": [],
   "source": []
  },
  {
   "cell_type": "markdown",
   "id": "32484837",
   "metadata": {},
   "source": [
    "## Dictonaries\n",
    "\n",
    "- Key, Value\n",
    "- Indexing\n",
    "- Iterating\n",
    "- Nested Dictonaries\n",
    "- Tuples inside Dictonary\n",
    "- List inside Dictonary\n",
    "- Set inside Dictonary\n",
    "- Restrictions on key naming"
   ]
  },
  {
   "cell_type": "code",
   "execution_count": 71,
   "id": "cec94917",
   "metadata": {},
   "outputs": [
    {
     "data": {
      "text/plain": [
       "'Panjim'"
      ]
     },
     "execution_count": 71,
     "metadata": {},
     "output_type": "execute_result"
    }
   ],
   "source": [
    "names_of_city = {\"Goa\": \"Panjim\", \"Rajasthan\": \"Jaipur\"}\n",
    "names_of_city\n",
    "\n",
    "names_of_city[\"Goa\"]"
   ]
  },
  {
   "cell_type": "markdown",
   "id": "1018babb",
   "metadata": {},
   "source": [
    "## Reading from console\n",
    "\n",
    "- Read strings\n",
    "- Read intergers\n",
    "- Read float\n",
    "- Read lists"
   ]
  },
  {
   "cell_type": "code",
   "execution_count": 77,
   "id": "916d795d",
   "metadata": {},
   "outputs": [
    {
     "name": "stdout",
     "output_type": "stream",
     "text": [
      "Enter a value5,6,7,8\n"
     ]
    }
   ],
   "source": [
    "inp = input(\"Enter a value\")"
   ]
  },
  {
   "cell_type": "code",
   "execution_count": 81,
   "id": "1eabe841",
   "metadata": {},
   "outputs": [
    {
     "data": {
      "text/plain": [
       "['5', '6', '7', '8']"
      ]
     },
     "execution_count": 81,
     "metadata": {},
     "output_type": "execute_result"
    }
   ],
   "source": [
    "inp.split(\",\")"
   ]
  },
  {
   "cell_type": "code",
   "execution_count": 80,
   "id": "f48d946f",
   "metadata": {},
   "outputs": [
    {
     "ename": "ValueError",
     "evalue": "could not convert string to float: '5,6,7,8'",
     "output_type": "error",
     "traceback": [
      "\u001b[0;31m---------------------------------------------------------------------------\u001b[0m",
      "\u001b[0;31mValueError\u001b[0m                                Traceback (most recent call last)",
      "Input \u001b[0;32mIn [80]\u001b[0m, in \u001b[0;36m<cell line: 1>\u001b[0;34m()\u001b[0m\n\u001b[0;32m----> 1\u001b[0m \u001b[38;5;28;43mfloat\u001b[39;49m\u001b[43m(\u001b[49m\u001b[43minp\u001b[49m\u001b[43m)\u001b[49m,\n",
      "\u001b[0;31mValueError\u001b[0m: could not convert string to float: '5,6,7,8'"
     ]
    }
   ],
   "source": [
    "float(inp)"
   ]
  },
  {
   "cell_type": "code",
   "execution_count": null,
   "id": "e85d0107",
   "metadata": {},
   "outputs": [],
   "source": []
  },
  {
   "cell_type": "markdown",
   "id": "1ce321e5",
   "metadata": {},
   "source": [
    "# Indentation\n",
    "\n",
    "- Importance\n",
    "- Need of Indentation"
   ]
  },
  {
   "cell_type": "markdown",
   "id": "f2772242",
   "metadata": {},
   "source": [
    "# Loops"
   ]
  },
  {
   "cell_type": "markdown",
   "id": "6ee7a2cc",
   "metadata": {},
   "source": [
    "## For Loop\n",
    "\n",
    "- Syntax\n",
    "- Conditionals inside for loops\n",
    "- Multiple for loops\n",
    "- range()\n",
    "- iterating python datatypes\n",
    "- enumerate()\n",
    "- zip()"
   ]
  },
  {
   "cell_type": "code",
   "execution_count": 86,
   "id": "3bc76e95",
   "metadata": {},
   "outputs": [
    {
     "name": "stdout",
     "output_type": "stream",
     "text": [
      "0\n",
      "10\n",
      "20\n",
      "30\n",
      "40\n",
      "50\n",
      "60\n",
      "70\n",
      "80\n",
      "90\n",
      "100\n"
     ]
    }
   ],
   "source": [
    "for i in range(0, 101, 10):\n",
    "    print(i)"
   ]
  },
  {
   "cell_type": "code",
   "execution_count": 88,
   "id": "166e9f8c",
   "metadata": {},
   "outputs": [
    {
     "data": {
      "text/plain": [
       "'5,6,7,8'"
      ]
     },
     "execution_count": 88,
     "metadata": {},
     "output_type": "execute_result"
    }
   ],
   "source": [
    "inp"
   ]
  },
  {
   "cell_type": "code",
   "execution_count": 89,
   "id": "88f9292d",
   "metadata": {},
   "outputs": [],
   "source": [
    "values = inp.split(\",\")\n",
    "for i in range(len(values)):\n",
    "    values[i] = int(values[i])"
   ]
  },
  {
   "cell_type": "code",
   "execution_count": 90,
   "id": "6923e331",
   "metadata": {},
   "outputs": [
    {
     "data": {
      "text/plain": [
       "[5, 6, 7, 8]"
      ]
     },
     "execution_count": 90,
     "metadata": {},
     "output_type": "execute_result"
    }
   ],
   "source": [
    "values"
   ]
  },
  {
   "cell_type": "code",
   "execution_count": 91,
   "id": "b973ea6e",
   "metadata": {},
   "outputs": [
    {
     "name": "stdout",
     "output_type": "stream",
     "text": [
      "5\n",
      "6\n",
      "7\n",
      "8\n"
     ]
    }
   ],
   "source": [
    "for value in values:\n",
    "    print(value)"
   ]
  },
  {
   "cell_type": "code",
   "execution_count": null,
   "id": "f79a29c2",
   "metadata": {},
   "outputs": [],
   "source": []
  },
  {
   "cell_type": "markdown",
   "id": "8f620233",
   "metadata": {},
   "source": [
    "## While Loop"
   ]
  },
  {
   "cell_type": "code",
   "execution_count": 92,
   "id": "6cc313b0",
   "metadata": {},
   "outputs": [
    {
     "name": "stdout",
     "output_type": "stream",
     "text": [
      "0\n",
      "1\n",
      "2\n",
      "3\n",
      "4\n"
     ]
    }
   ],
   "source": [
    "a = 5\n",
    "i = 0\n",
    "\n",
    "while i < a:\n",
    "    print(i)\n",
    "    i += 1"
   ]
  },
  {
   "cell_type": "markdown",
   "id": "55161867",
   "metadata": {},
   "source": [
    "## Exception Handling\n",
    "\n",
    "- try\n",
    "- except\n",
    "- finally"
   ]
  },
  {
   "cell_type": "code",
   "execution_count": 101,
   "id": "8b6f32cd",
   "metadata": {},
   "outputs": [
    {
     "name": "stdout",
     "output_type": "stream",
     "text": [
      "division by zero zero\n",
      "Done\n"
     ]
    }
   ],
   "source": [
    "try:\n",
    "#     this_set.add([])\n",
    "    3/0\n",
    "except ZeroDivisionError as err:\n",
    "    print(err, \"zero\")\n",
    "except Exception as e:\n",
    "    print(e, \"general\")\n",
    "finally:\n",
    "    print(\"Done\")"
   ]
  },
  {
   "cell_type": "code",
   "execution_count": 102,
   "id": "34bfe1c6",
   "metadata": {},
   "outputs": [],
   "source": [
    "def f(a, b=5):\n",
    "    print(a, b)"
   ]
  },
  {
   "cell_type": "code",
   "execution_count": 105,
   "id": "7abcdb19",
   "metadata": {},
   "outputs": [
    {
     "name": "stdout",
     "output_type": "stream",
     "text": [
      "1 10\n"
     ]
    }
   ],
   "source": [
    "f(1, 10)"
   ]
  },
  {
   "cell_type": "code",
   "execution_count": 106,
   "id": "afc26cf0",
   "metadata": {},
   "outputs": [],
   "source": [
    "def add(a, b=1):\n",
    "    return a+b"
   ]
  },
  {
   "cell_type": "code",
   "execution_count": 107,
   "id": "2bd60f08",
   "metadata": {},
   "outputs": [
    {
     "data": {
      "text/plain": [
       "12"
      ]
     },
     "execution_count": 107,
     "metadata": {},
     "output_type": "execute_result"
    }
   ],
   "source": [
    "add(5, 7)"
   ]
  },
  {
   "cell_type": "code",
   "execution_count": 108,
   "id": "483998b7",
   "metadata": {},
   "outputs": [],
   "source": [
    "add = lambda x, y: x+y"
   ]
  },
  {
   "cell_type": "code",
   "execution_count": 109,
   "id": "2e92062f",
   "metadata": {},
   "outputs": [
    {
     "data": {
      "text/plain": [
       "8"
      ]
     },
     "execution_count": 109,
     "metadata": {},
     "output_type": "execute_result"
    }
   ],
   "source": [
    "add(3, 5)"
   ]
  },
  {
   "cell_type": "code",
   "execution_count": null,
   "id": "27183d9b",
   "metadata": {},
   "outputs": [],
   "source": []
  },
  {
   "cell_type": "markdown",
   "id": "6e7c8207",
   "metadata": {},
   "source": [
    "## Classes and Objects\n",
    "\n",
    "- Defining classes\n",
    "- `__init__()`\n",
    "- `__str__()`\n",
    "- `__call__()`"
   ]
  },
  {
   "cell_type": "code",
   "execution_count": 125,
   "id": "907433a3",
   "metadata": {},
   "outputs": [],
   "source": [
    "class Rectangle:\n",
    "    def __init__(self, width=5, breath=7):\n",
    "        self.width = width\n",
    "        self.breath = breath\n",
    "        print(width, breath)\n",
    "        \n",
    "    def __call__(self):\n",
    "        print(self.width, self.breath)\n",
    "        \n",
    "    def __str__(self):\n",
    "        return \"MY Rectangle\""
   ]
  },
  {
   "cell_type": "code",
   "execution_count": 126,
   "id": "3f8ad4fc",
   "metadata": {},
   "outputs": [
    {
     "name": "stdout",
     "output_type": "stream",
     "text": [
      "5 7\n"
     ]
    },
    {
     "data": {
      "text/plain": [
       "<__main__.Rectangle at 0x12130f550>"
      ]
     },
     "execution_count": 126,
     "metadata": {},
     "output_type": "execute_result"
    }
   ],
   "source": [
    "r = Rectangle()\n",
    "# r.get_area()\n",
    "r"
   ]
  },
  {
   "cell_type": "markdown",
   "id": "2f28ad72",
   "metadata": {},
   "source": [
    "## File Handling\n",
    "\n",
    "- Reading a file\n",
    "- Writing a file\n",
    "- Appending to a file"
   ]
  },
  {
   "cell_type": "code",
   "execution_count": 130,
   "id": "8d7424d8",
   "metadata": {},
   "outputs": [
    {
     "data": {
      "text/plain": [
       "'Workshop'"
      ]
     },
     "execution_count": 130,
     "metadata": {},
     "output_type": "execute_result"
    }
   ],
   "source": [
    "f = open(\"new.txt\", 'w')\n",
    "\n",
    "string"
   ]
  },
  {
   "cell_type": "code",
   "execution_count": 131,
   "id": "0ced171f",
   "metadata": {},
   "outputs": [
    {
     "data": {
      "text/plain": [
       "8"
      ]
     },
     "execution_count": 131,
     "metadata": {},
     "output_type": "execute_result"
    }
   ],
   "source": [
    "f.write(string)"
   ]
  },
  {
   "cell_type": "code",
   "execution_count": 132,
   "id": "55ec0260",
   "metadata": {},
   "outputs": [
    {
     "data": {
      "text/plain": [
       "3"
      ]
     },
     "execution_count": 132,
     "metadata": {},
     "output_type": "execute_result"
    }
   ],
   "source": [
    "f.write(\"\\nHi\")"
   ]
  },
  {
   "cell_type": "code",
   "execution_count": 140,
   "id": "e736efbc",
   "metadata": {},
   "outputs": [],
   "source": [
    "f.close()"
   ]
  },
  {
   "cell_type": "code",
   "execution_count": 141,
   "id": "a89b32bd",
   "metadata": {},
   "outputs": [],
   "source": [
    "with open(\"new.txt\", 'w') as f_:\n",
    "    f_.write(string)\n",
    "    f_.write(\"\\nHi\")\n",
    "    f_.close()"
   ]
  },
  {
   "cell_type": "code",
   "execution_count": 142,
   "id": "47475075",
   "metadata": {},
   "outputs": [
    {
     "data": {
      "text/plain": [
       "True"
      ]
     },
     "execution_count": 142,
     "metadata": {},
     "output_type": "execute_result"
    }
   ],
   "source": [
    "f_.closed"
   ]
  },
  {
   "cell_type": "code",
   "execution_count": 139,
   "id": "f2010e04",
   "metadata": {},
   "outputs": [
    {
     "data": {
      "text/plain": [
       "True"
      ]
     },
     "execution_count": 139,
     "metadata": {},
     "output_type": "execute_result"
    }
   ],
   "source": [
    "f.closed"
   ]
  },
  {
   "cell_type": "code",
   "execution_count": null,
   "id": "87c0682b",
   "metadata": {},
   "outputs": [],
   "source": []
  }
 ],
 "metadata": {
  "kernelspec": {
   "display_name": "Python 3 (ipykernel)",
   "language": "python",
   "name": "python3"
  },
  "language_info": {
   "codemirror_mode": {
    "name": "ipython",
    "version": 3
   },
   "file_extension": ".py",
   "mimetype": "text/x-python",
   "name": "python",
   "nbconvert_exporter": "python",
   "pygments_lexer": "ipython3",
   "version": "3.9.10"
  }
 },
 "nbformat": 4,
 "nbformat_minor": 5
}
