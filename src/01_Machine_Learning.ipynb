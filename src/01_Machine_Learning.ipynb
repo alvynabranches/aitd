{
 "cells": [
  {
   "cell_type": "markdown",
   "id": "a78c78d4",
   "metadata": {},
   "source": [
    "# Machine Learning\n",
    "\n",
    "## Introduction\n",
    "\n",
    "Machine learning (ML) is a type of artificial intelligence (AI) that allows software applications to become more accurate at predicting outcomes without being explicitly programmed to do so. Machine learning algorithms use historical data as input to predict new output values.\n",
    "\n",
    "### Types of Machine Learning\n",
    "- Supervised Learning\n",
    "- Unsupervised Learning\n",
    "- Semi Supervised Learning\n",
    "- Reinforcement Learning"
   ]
  },
  {
   "cell_type": "markdown",
   "id": "f8623999",
   "metadata": {},
   "source": [
    "## Supervised Learning Algorithms\n",
    "\n",
    "### Types of Supervised Learning Algorithms\n",
    "- Regression\n",
    "- Classification\n",
    "\n",
    "\n",
    "#### Regression\n",
    "- Linear Regression\n",
    "- Polynomial Regression\n",
    "- Support Vector Machines\n",
    "- Decision Tree\n",
    "- Random Forest\n",
    "\n",
    "#### Classification\n",
    "- Logistic Regression\n",
    "- KNN Classification\n",
    "- Support Vector Machines\n",
    "- Decision Tree\n",
    "- Random Forest"
   ]
  },
  {
   "cell_type": "code",
   "execution_count": null,
   "id": "6e037e7e",
   "metadata": {},
   "outputs": [],
   "source": []
  },
  {
   "cell_type": "markdown",
   "id": "bdbf14ae",
   "metadata": {},
   "source": [
    "## Unsupervised Learning Algorithms\n",
    "\n",
    "### Types of Unsupervised Learning Algorithm\n",
    "- Clustering\n",
    "- Association Rule Mining"
   ]
  },
  {
   "cell_type": "code",
   "execution_count": null,
   "id": "62946f32",
   "metadata": {},
   "outputs": [],
   "source": []
  },
  {
   "cell_type": "markdown",
   "id": "51bb441b",
   "metadata": {},
   "source": [
    "## Errors in Learning Algorithm\n",
    "\n",
    "### Error Calculation\n",
    "\n",
    "- Regression\n",
    "    - RMSE\n",
    "    - R2 Score\n",
    "    \n",
    "- Classification\n",
    "    - Accuracy\n",
    "    - Precision\n",
    "    - Recall\n",
    "\n",
    "#### RMSE\n",
    "![](img/rmse.png)\n",
    "\n",
    "#### R2\n",
    "![](img/r2_score.png)\n",
    "\n",
    "#### Precision & Recall\n",
    "![](img/accuracy_classification.png)"
   ]
  },
  {
   "cell_type": "code",
   "execution_count": null,
   "id": "0ff1ed11",
   "metadata": {},
   "outputs": [],
   "source": []
  }
 ],
 "metadata": {
  "kernelspec": {
   "display_name": "Python 3 (ipykernel)",
   "language": "python",
   "name": "python3"
  },
  "language_info": {
   "codemirror_mode": {
    "name": "ipython",
    "version": 3
   },
   "file_extension": ".py",
   "mimetype": "text/x-python",
   "name": "python",
   "nbconvert_exporter": "python",
   "pygments_lexer": "ipython3",
   "version": "3.9.10"
  }
 },
 "nbformat": 4,
 "nbformat_minor": 5
}
